{
 "cells": [
  {
   "cell_type": "code",
   "execution_count": 1,
   "metadata": {},
   "outputs": [
    {
     "data": {
      "text/plain": [
       "True"
      ]
     },
     "execution_count": 1,
     "metadata": {},
     "output_type": "execute_result"
    }
   ],
   "source": [
    "# changing the working directory and loading the env variables\n",
    "import os\n",
    "from dotenv import load_dotenv\n",
    "\n",
    "os.chdir(os.path.join(os.getcwd(),os.pardir))\n",
    "load_dotenv()"
   ]
  },
  {
   "cell_type": "code",
   "execution_count": 2,
   "metadata": {},
   "outputs": [],
   "source": [
    "# setting up langsmith tracing\n",
    "os.environ['LANGCHAIN_TRACING_V2'] = 'true'\n",
    "os.environ['LANGCHAIN_PROJECT'] = 'flipkart-scraping'"
   ]
  },
  {
   "cell_type": "code",
   "execution_count": 3,
   "metadata": {},
   "outputs": [],
   "source": [
    "from typing import Sequence, Optional, TypedDict, Annotated, Union, Literal\n",
    "from langchain_core.messages import BaseMessage, SystemMessage, ToolMessage, HumanMessage\n",
    "from playwright.async_api import Page\n",
    "import operator\n",
    "from langchain_core.prompts import ChatPromptTemplate, SystemMessagePromptTemplate, HumanMessagePromptTemplate, PromptTemplate, MessagesPlaceholder\n",
    "from langchain_core.prompts.image import ImagePromptTemplate\n",
    "from langgraph.graph import StateGraph, END\n",
    "\n",
    "class BBox(TypedDict):\n",
    "    x: float\n",
    "    y: float\n",
    "    text: str\n",
    "    type: str\n",
    "    ariaLabel: str\n",
    "\n",
    "class Prediction(TypedDict):\n",
    "    action: str\n",
    "    args: Optional[Sequence[str]]\n",
    "\n",
    "class AgentState(TypedDict):\n",
    "    page: Page\n",
    "    input: str\n",
    "    img: str\n",
    "    bboxes: Sequence[BBox]\n",
    "    prediction: Prediction\n",
    "    scratchpad: Annotated[Sequence[BaseMessage],operator.add]\n",
    "    bbox_descriptions: Sequence[str]\n",
    "    tool_output: str"
   ]
  },
  {
   "cell_type": "code",
   "execution_count": 4,
   "metadata": {},
   "outputs": [],
   "source": [
    "import asyncio\n",
    "import platform\n",
    "from langchain_core.pydantic_v1 import BaseModel, Field\n",
    "\n",
    "async def click(page: Page, bbox_id:int, bboxes:Sequence[BBox])->str:\n",
    "    \"\"\"Used to click on a bounding box on a web page.\n",
    "\n",
    "    Args:\n",
    "        page (Page): The page to click on.\n",
    "        bbox_id (int): The ID of the bounding box to click on.\n",
    "        bboxes (Sequence[BBox]): The list of bounding boxes on the page.\n",
    "\n",
    "    Returns:\n",
    "        str: The message that the click was successful.\n",
    "    \"\"\"\n",
    "    try:\n",
    "        bbox = bboxes[bbox_id]\n",
    "    except Exception as e:\n",
    "        return f\"Error occured. {e}\"\n",
    "    x, y = bbox[\"x\"], bbox[\"y\"]\n",
    "    _ = await page.mouse.click(x, y)\n",
    "    return {\"tool_output\": f\"Clicked {bbox_id}\"}\n",
    "\n",
    "\n",
    "async def type_text(page: Page, bbox_id:int, type_content:str, bboxes:Sequence[BBox])->str:\n",
    "    \"\"\"Used to type text in a web page.\n",
    "\n",
    "    Args:\n",
    "        page (Page): The page to type on.\n",
    "        bbox_id (int): The ID of the bounding box to type on.\n",
    "        type_content (str): The content to type.\n",
    "        bboxes (Sequence[BBox]): The list of bounding boxes on the page.\n",
    "\n",
    "    Returns:\n",
    "        str: The message that the text was typed successfully.\n",
    "    \"\"\"\n",
    "    bbox = bboxes[bbox_id]\n",
    "    x, y = bbox[\"x\"], bbox[\"y\"]\n",
    "    await page.mouse.click(x, y)\n",
    "    select_all = \"Meta+A\" if platform.system() == \"Darwin\" else \"Control+A\"\n",
    "    await page.keyboard.press(select_all)\n",
    "    await page.keyboard.press(\"Backspace\")\n",
    "    await page.keyboard.type(type_content)\n",
    "    await page.keyboard.press(\"Enter\")\n",
    "    return {\"tool_output\": f\"Typed {type_content} and submitted\"}\n",
    "\n",
    "\n",
    "async def scroll(page: Page, target: Union[Literal['WINDOW'],int], direction:Literal['up','down'], bboxes: Sequence[BBox])->str:\n",
    "    \"\"\"Used to scroll up or down in a web page.\n",
    "    If the complete window needs to be scrolled, then the target is 'WINDOW'. Else the target is the ID of the bounding box to scroll in.\n",
    "\n",
    "    Args:\n",
    "        page (Page): The page to scroll in.\n",
    "        target (Union[Literal['WINDOW'],int]): The target to scroll in. 'WINDOW' if the complete window needs to be scrolled, else the ID of the bounding box to scroll in.\n",
    "        direction (Literal['up','down']): The direction to scroll in.\n",
    "        bboxes (Sequence[BBox]): The list of bounding boxes on the page.\n",
    "\n",
    "    Returns:\n",
    "        str: The message that the scroll was successful.\n",
    "    \"\"\"\n",
    "    if target == \"WINDOW\":\n",
    "        scroll_amount = 500\n",
    "        scroll_direction = (\n",
    "            -scroll_amount if direction == \"up\" else scroll_amount\n",
    "        )\n",
    "        await page.evaluate(f\"window.scrollBy(0, {scroll_direction})\")\n",
    "    else:\n",
    "        scroll_amount = 200\n",
    "        target_id = int(target)\n",
    "        bbox = bboxes[target_id]\n",
    "        x, y = bbox[\"x\"], bbox[\"y\"]\n",
    "        scroll_direction = (\n",
    "            -scroll_amount if direction == \"up\" else scroll_amount\n",
    "        )\n",
    "        await page.mouse.move(x, y)\n",
    "        await page.mouse.wheel(0, scroll_direction)\n",
    "\n",
    "    return {\"tool_output\": f\"Scrolled {direction} in {'WINDOW' if target == 'WINDOW' else 'element'} with ID {target}.\"}\n",
    "\n",
    "\n",
    "async def wait()->str:\n",
    "    \"\"\"Used to wait for 5 seconds. This is generally used to wait for the page to load.\n",
    "\n",
    "    Returns:\n",
    "        str: The message that the wait is complete.\n",
    "    \"\"\"\n",
    "    sleep_time = 5\n",
    "    await asyncio.sleep(sleep_time)\n",
    "    return {\"tool_output\": f\"Waited for {sleep_time}s.\"}\n",
    "\n",
    "\n",
    "async def go_back(page: Page)->str:\n",
    "    \"\"\"Used to navigate back a page.\n",
    "\n",
    "    Args:\n",
    "        page (Page): The page to navigate back in.\n",
    "\n",
    "    Returns:\n",
    "        str: The message that the navigation is complete.\n",
    "    \"\"\"\n",
    "    await page.go_back()\n",
    "    return {\"tool_output\": f\"Navigated back a page to {page.url}.\"}\n",
    "\n",
    "\n",
    "async def to_google(page: Page)->str:\n",
    "    \"\"\"Used to navigate to google.com.\n",
    "\n",
    "    Args:\n",
    "        page (Page): The page to navigate to google.com in.\n",
    "\n",
    "    Returns:\n",
    "        str: The message that the navigation is complete.\n",
    "    \"\"\"\n",
    "    await page.goto(\"https://www.google.com/\")\n",
    "    return {\"tool_output\": \"Navigated to google.com.\"}\n",
    "\n",
    "functions_list = [click, type_text, scroll, wait, go_back, to_google]\n",
    "\n",
    "class CompleteTask(BaseModel):\n",
    "    \"\"\"Call this when the given task is completed.\"\"\"\n",
    "    answer: str = Field(\"The answer when the task is complete. 'COMPLETED' when the task is a navigation task, else it will be the content of the answer which the user requested for.\")"
   ]
  },
  {
   "cell_type": "code",
   "execution_count": 5,
   "metadata": {},
   "outputs": [],
   "source": [
    "# helper functions\n",
    "from langchain_core.runnables import RunnableLambda, chain, RunnablePassthrough\n",
    "import base64\n",
    "import asyncio\n",
    "\n",
    "with open(\"mark_page.js\") as f:\n",
    "    mark_page_script = f.read()\n",
    "\n",
    "@chain\n",
    "async def mark_page(page):\n",
    "    await page.evaluate(mark_page_script)\n",
    "    for _ in range(10):\n",
    "        try:\n",
    "            bboxes = await page.evaluate(\"markPage()\")\n",
    "            break\n",
    "        except:\n",
    "            asyncio.sleep(3)\n",
    "    screenshot = await page.screenshot()\n",
    "    await page.evaluate(\"unmarkPage()\")\n",
    "    print(bboxes)\n",
    "    return {\n",
    "        \"img\": base64.b64encode(screenshot).decode(),\n",
    "        \"bboxes\": bboxes,\n",
    "    }"
   ]
  },
  {
   "cell_type": "code",
   "execution_count": 6,
   "metadata": {},
   "outputs": [],
   "source": [
    "from langchain_openai import ChatOpenAI\n",
    "\n",
    "@chain\n",
    "async def annotate(state):\n",
    "    marked_page = await mark_page.with_retry().ainvoke(state[\"page\"])\n",
    "    return {**state, **marked_page}\n",
    "\n",
    "\n",
    "@chain\n",
    "def format_descriptions(state):\n",
    "    labels = []\n",
    "    for i, bbox in enumerate(state[\"bboxes\"]):\n",
    "        text = bbox.get(\"ariaLabel\",\"\")\n",
    "        if not text.strip():\n",
    "            text = bbox[\"text\"]\n",
    "        el_type = bbox.get(\"type\",\"\")\n",
    "        labels.append(f'{i} (<{el_type}/>): \"{text}\"')\n",
    "    bbox_descriptions = \"Valid Bounding Boxes:\\n\" + \"\\n\".join(labels)\n",
    "    return {**state, \"bbox_descriptions\": bbox_descriptions}\n",
    "\n",
    "\n",
    "with open('system_prompt.txt','r') as f:\n",
    "    system_prompt = f.read()\n",
    "\n",
    "\n",
    "prompt = ChatPromptTemplate.from_messages([\n",
    "    SystemMessagePromptTemplate.from_template(system_prompt),\n",
    "    HumanMessagePromptTemplate.from_template('{input}'),\n",
    "    MessagesPlaceholder(variable_name='scratchpad', optional=True),\n",
    "    HumanMessagePromptTemplate(prompt=[\n",
    "        ImagePromptTemplate(input_variables=['img'], template={'url': 'data:image/png;base64,{img}'}),\n",
    "        PromptTemplate(input_variables=['bbox_descriptions'], template='{bbox_descriptions}'),\n",
    "    ])\n",
    "])\n",
    "\n",
    "llm = ChatOpenAI(model=\"gpt-4o\", max_tokens=4096)\n",
    "# agent = annotate | RunnablePassthrough.assign(\n",
    "#     prediction = format_descriptions | prompt | llm.bind_functions(functions_list+[CompleteTask])\n",
    "# )\n",
    "agent = annotate | format_descriptions | prompt | llm.bind_functions(functions_list+[CompleteTask])"
   ]
  },
  {
   "cell_type": "code",
   "execution_count": 7,
   "metadata": {},
   "outputs": [
    {
     "data": {
      "text/plain": [
       "'CompleteTask'"
      ]
     },
     "execution_count": 7,
     "metadata": {},
     "output_type": "execute_result"
    }
   ],
   "source": [
    "CompleteTask.__name__"
   ]
  },
  {
   "cell_type": "code",
   "execution_count": 8,
   "metadata": {},
   "outputs": [],
   "source": [
    "@chain\n",
    "def update_scratchpad(state: AgentState):\n",
    "    \"\"\"Update the scratchpad with the latest message.\"\"\"\n",
    "    message = state.get('scratchpad')[-1]\n",
    "    tool_output = state.get('tool_output')\n",
    "    if message.additional_kwargs:\n",
    "        tool_call_id = message['additional_kwargs']['tool_calls'][0]['id']\n",
    "        return_message = ToolMessage(content=tool_output, id=tool_call_id)\n",
    "    else:\n",
    "        return_message = HumanMessage(content=\"No tool was called in your last action. Please recheck your last action.\")\n",
    "    return {**state, \"scratchpad\": [return_message]}\n",
    "\n",
    "\n",
    "def agent_router(state: AgentState):\n",
    "    \"\"\"Routing function for the agent\"\"\"\n",
    "    message = state.get('scratchpad')[-1]\n",
    "    if message.additional_kwargs:\n",
    "        function_name = message.additional_kwargs['function_call']['name']\n",
    "        if function_name == CompleteTask.__name__:\n",
    "            return '__end__'\n",
    "        else:\n",
    "            return function_name\n",
    "    else:\n",
    "        return '__end__'"
   ]
  },
  {
   "cell_type": "code",
   "execution_count": 9,
   "metadata": {},
   "outputs": [],
   "source": [
    "from langchain_core.runnables import Runnable, RunnableConfig\n",
    "import json\n",
    "\n",
    "class Assistant:\n",
    "    def __init__(self, runnable: Runnable):\n",
    "        self.runnable = runnable\n",
    "    \n",
    "    async def __call__(self, state: AgentState, config: RunnableConfig):\n",
    "        message = await self.runnable.ainvoke(state)\n",
    "        print(message)\n",
    "        if not message.tool_calls and (\n",
    "            not message.content\n",
    "            or isinstance(message.content,list)\n",
    "            and not message.content[0].get('text')\n",
    "        ):\n",
    "            messages = [('user','Respond with a real output or correct tool call')]\n",
    "            return {**state, 'scratchpad': messages}\n",
    "        \n",
    "        else:\n",
    "            return {**state, 'scratchpad': [message]}"
   ]
  },
  {
   "cell_type": "code",
   "execution_count": 10,
   "metadata": {},
   "outputs": [],
   "source": [
    "@chain\n",
    "async def type_text_node(state: AgentState):\n",
    "    message = state['scratchpad'][-1]\n",
    "    ai_kwargs = eval(message.additional_kwargs['function_call']['arguments'])\n",
    "    state_kwargs = {\n",
    "        'page': state['page'],\n",
    "        'bboxes': state['bboxes']\n",
    "    }\n",
    "    print(state['bboxes'])\n",
    "    result = await type_text(**ai_kwargs, **state_kwargs)\n",
    "    return result\n",
    "\n",
    "@chain\n",
    "async def click_node(state: AgentState):\n",
    "    message = state['scratchpad'][-1]\n",
    "    ai_kwargs = eval(message.additional_kwargs['function_call']['arguments'])\n",
    "    state_kwargs = {\n",
    "        'page': state['page'],\n",
    "        'bboxes': state['bboxes']\n",
    "    }\n",
    "    print(state['bboxes'])\n",
    "    result = await click(**ai_kwargs, **state_kwargs)\n",
    "    return result"
   ]
  },
  {
   "cell_type": "code",
   "execution_count": 11,
   "metadata": {},
   "outputs": [],
   "source": [
    "# building the graph\n",
    "\n",
    "builder = StateGraph(AgentState)\n",
    "\n",
    "\n",
    "builder.add_node('agent', Assistant(agent))\n",
    "builder.set_entry_point('agent')\n",
    "\n",
    "\n",
    "builder.add_node('update_scratchpad', update_scratchpad)\n",
    "builder.add_edge('update_scratchpad', 'agent')\n",
    "\n",
    "\n",
    "tools_dict = {\n",
    "    'click':click_node,\n",
    "    'type_text':type_text_node,\n",
    "    'scroll':scroll,\n",
    "    'wait':wait,\n",
    "    'go_back':go_back,\n",
    "    'to_google':to_google\n",
    "}\n",
    "\n",
    "\n",
    "for node_name, tool in tools_dict.items():\n",
    "    builder.add_node(node_name, tool)\n",
    "    builder.add_edge(node_name, 'update_scratchpad')\n",
    "\n",
    "\n",
    "builder.add_conditional_edges(\n",
    "    'agent',\n",
    "    agent_router,\n",
    "    {\n",
    "        '__end__': END,\n",
    "        'CompleteTask': END,\n",
    "        'click':'click',\n",
    "        'type_text':'type_text',\n",
    "        'scroll':'scroll',\n",
    "        'wait':'wait',\n",
    "        'go_back':'go_back',\n",
    "        'to_google':'to_google',\n",
    "    }\n",
    ")\n",
    "\n",
    "graph = builder.compile()"
   ]
  },
  {
   "cell_type": "code",
   "execution_count": 12,
   "metadata": {},
   "outputs": [],
   "source": [
    "from IPython import display\n",
    "from playwright.async_api import async_playwright\n",
    "\n",
    "browser = await async_playwright().start()\n",
    "browser = await browser.chromium.launch(headless=False, args=None)\n",
    "page = await browser.new_page()\n",
    "_ = await page.goto(\"https://www.google.com\")\n",
    "\n",
    "async def call_agent(question:str, page:Page, max_steps:int=7):\n",
    "    event_stream = graph.astream(\n",
    "        input = {\n",
    "            'page':page,\n",
    "            'input':question,\n",
    "            'scratchpad':[],\n",
    "        },\n",
    "        config={\n",
    "            'recursion_limit':max_steps\n",
    "        }\n",
    "    )\n",
    "\n",
    "    steps = []\n",
    "    async for event in event_stream:\n",
    "        print(\"=\"*30)\n",
    "        print(event)\n",
    "        if \"agent\" not in event:\n",
    "            continue\n",
    "        message = event['agent']['scratchpad'][-1]\n",
    "        content = message.content\n",
    "        addition_kwargs = message.additional_kwargs\n",
    "        \n",
    "        print(f\"AGENT: {content}\")\n",
    "        print(addition_kwargs)"
   ]
  },
  {
   "cell_type": "code",
   "execution_count": 13,
   "metadata": {},
   "outputs": [
    {
     "name": "stdout",
     "output_type": "stream",
     "text": [
      "[{'x': 1020.390625, 'y': 30, 'type': 'a', 'text': 'Gmail', 'ariaLabel': 'Gmail '}, {'x': 1073.68359375, 'y': 30, 'type': 'a', 'text': 'Images', 'ariaLabel': 'Search for Images '}, {'x': 1134, 'y': 30, 'type': 'a', 'text': '', 'ariaLabel': 'Google apps'}, {'x': 1214, 'y': 30, 'type': 'span', 'text': 'Sign in', 'ariaLabel': ''}, {'x': 1064, 'y': 166, 'type': 'iframe', 'text': '', 'ariaLabel': ''}, {'x': 640, 'y': 140, 'type': 'img', 'text': '', 'ariaLabel': ''}, {'x': 863, 'y': 196, 'type': 'svg', 'text': '', 'ariaLabel': ''}, {'x': 617.5, 'y': 271.5, 'type': 'textarea', 'text': '', 'ariaLabel': 'Search'}, {'x': 841, 'y': 269, 'type': 'div', 'text': '', 'ariaLabel': ''}, {'x': 863, 'y': 265.5, 'type': 'path', 'text': '', 'ariaLabel': ''}, {'x': 903.0087280273438, 'y': 270, 'type': 'circle', 'text': '', 'ariaLabel': ''}, {'x': 562.80078125, 'y': 341, 'type': 'input', 'text': '', 'ariaLabel': 'Google Search'}, {'x': 709.640625, 'y': 341, 'type': 'input', 'text': '', 'ariaLabel': \"I'm Feeling Lucky\"}, {'x': 522.3828125, 'y': 394, 'type': 'a', 'text': 'हिन्दी', 'ariaLabel': ''}, {'x': 558.765625, 'y': 394, 'type': 'a', 'text': 'বাংলা', 'ariaLabel': ''}, {'x': 601.89453125, 'y': 394, 'type': 'a', 'text': 'తెలుగు', 'ariaLabel': ''}, {'x': 643.92578125, 'y': 394, 'type': 'a', 'text': 'मराठी', 'ariaLabel': ''}, {'x': 681.3515625, 'y': 394, 'type': 'a', 'text': 'தமிழ்', 'ariaLabel': ''}, {'x': 724.30078125, 'y': 394, 'type': 'a', 'text': 'ગુજરાતી', 'ariaLabel': ''}, {'x': 767.12890625, 'y': 394, 'type': 'a', 'text': 'ಕನ್ನಡ', 'ariaLabel': ''}, {'x': 814.48046875, 'y': 394, 'type': 'a', 'text': 'മലയാളം', 'ariaLabel': ''}, {'x': 862.07421875, 'y': 394, 'type': 'a', 'text': 'ਪੰਜਾਬੀ', 'ariaLabel': ''}, {'x': 53.29296875, 'y': 697, 'type': 'a', 'text': 'About', 'ariaLabel': ''}, {'x': 136.21484375, 'y': 697, 'type': 'a', 'text': 'Advertising', 'ariaLabel': ''}, {'x': 229.25, 'y': 697, 'type': 'a', 'text': 'Business', 'ariaLabel': ''}, {'x': 346.0078125, 'y': 697, 'type': 'a', 'text': 'How Search works', 'ariaLabel': ''}, {'x': 1073.34765625, 'y': 697, 'type': 'a', 'text': 'Privacy', 'ariaLabel': ''}, {'x': 1145.35546875, 'y': 697, 'type': 'a', 'text': 'Terms', 'ariaLabel': ''}, {'x': 1219.70703125, 'y': 697, 'type': 'div', 'text': 'Settings', 'ariaLabel': ''}]\n",
      "content='Category: Extraction\\nThought: I need to search for the price of iPhone 15 on Flipkart. First, I will type \"iPhone 15 price on Flipkart\" in the Google search bar and then proceed to get the information.\\nAction: Type [7]; [iPhone 15 price on Flipkart]' additional_kwargs={'function_call': {'arguments': '{\"bbox_id\":7,\"type_content\":\"iPhone 15 price on Flipkart\"}', 'name': 'type_text'}} response_metadata={'token_usage': {'completion_tokens': 94, 'prompt_tokens': 2283, 'total_tokens': 2377}, 'model_name': 'gpt-4o', 'system_fingerprint': 'fp_927397958d', 'finish_reason': 'function_call', 'logprobs': None} id='run-0a2f0b36-4430-4705-b52c-351c7fb7c0ab-0'\n",
      "==============================\n",
      "{'agent': {'page': <Page url='https://www.google.com/'>, 'input': 'What is the price of iphone 15 on flipkart?', 'img': None, 'bboxes': None, 'prediction': None, 'scratchpad': [AIMessage(content='Category: Extraction\\nThought: I need to search for the price of iPhone 15 on Flipkart. First, I will type \"iPhone 15 price on Flipkart\" in the Google search bar and then proceed to get the information.\\nAction: Type [7]; [iPhone 15 price on Flipkart]', additional_kwargs={'function_call': {'arguments': '{\"bbox_id\":7,\"type_content\":\"iPhone 15 price on Flipkart\"}', 'name': 'type_text'}}, response_metadata={'token_usage': {'completion_tokens': 94, 'prompt_tokens': 2283, 'total_tokens': 2377}, 'model_name': 'gpt-4o', 'system_fingerprint': 'fp_927397958d', 'finish_reason': 'function_call', 'logprobs': None}, id='run-0a2f0b36-4430-4705-b52c-351c7fb7c0ab-0')], 'bbox_descriptions': None, 'tool_output': None}}\n",
      "AGENT: Category: Extraction\n",
      "Thought: I need to search for the price of iPhone 15 on Flipkart. First, I will type \"iPhone 15 price on Flipkart\" in the Google search bar and then proceed to get the information.\n",
      "Action: Type [7]; [iPhone 15 price on Flipkart]\n",
      "{'function_call': {'arguments': '{\"bbox_id\":7,\"type_content\":\"iPhone 15 price on Flipkart\"}', 'name': 'type_text'}}\n",
      "None\n"
     ]
    },
    {
     "ename": "TypeError",
     "evalue": "'NoneType' object is not subscriptable",
     "output_type": "error",
     "traceback": [
      "\u001b[0;31m---------------------------------------------------------------------------\u001b[0m",
      "\u001b[0;31mTypeError\u001b[0m                                 Traceback (most recent call last)",
      "Cell \u001b[0;32mIn[13], line 2\u001b[0m\n\u001b[1;32m      1\u001b[0m user_input \u001b[38;5;241m=\u001b[39m \u001b[38;5;124m\"\u001b[39m\u001b[38;5;124mWhat is the price of iphone 15 on flipkart?\u001b[39m\u001b[38;5;124m\"\u001b[39m\n\u001b[0;32m----> 2\u001b[0m res \u001b[38;5;241m=\u001b[39m \u001b[38;5;28;01mawait\u001b[39;00m call_agent(user_input, page)\n",
      "Cell \u001b[0;32mIn[12], line 22\u001b[0m, in \u001b[0;36mcall_agent\u001b[0;34m(question, page, max_steps)\u001b[0m\n\u001b[1;32m     10\u001b[0m event_stream \u001b[38;5;241m=\u001b[39m graph\u001b[38;5;241m.\u001b[39mastream(\n\u001b[1;32m     11\u001b[0m     \u001b[38;5;28minput\u001b[39m \u001b[38;5;241m=\u001b[39m {\n\u001b[1;32m     12\u001b[0m         \u001b[38;5;124m'\u001b[39m\u001b[38;5;124mpage\u001b[39m\u001b[38;5;124m'\u001b[39m:page,\n\u001b[0;32m   (...)\u001b[0m\n\u001b[1;32m     18\u001b[0m     }\n\u001b[1;32m     19\u001b[0m )\n\u001b[1;32m     21\u001b[0m steps \u001b[38;5;241m=\u001b[39m []\n\u001b[0;32m---> 22\u001b[0m \u001b[38;5;28;01masync\u001b[39;00m \u001b[38;5;28;01mfor\u001b[39;00m event \u001b[38;5;129;01min\u001b[39;00m event_stream:\n\u001b[1;32m     23\u001b[0m     \u001b[38;5;28mprint\u001b[39m(\u001b[38;5;124m\"\u001b[39m\u001b[38;5;124m=\u001b[39m\u001b[38;5;124m\"\u001b[39m\u001b[38;5;241m*\u001b[39m\u001b[38;5;241m30\u001b[39m)\n\u001b[1;32m     24\u001b[0m     \u001b[38;5;28mprint\u001b[39m(event)\n",
      "File \u001b[0;32m~/Documents/learning/github/amazon-orders-bot/venv/lib/python3.12/site-packages/langgraph/pregel/__init__.py:1258\u001b[0m, in \u001b[0;36mPregel.astream\u001b[0;34m(self, input, config, stream_mode, output_keys, input_keys, interrupt_before, interrupt_after, debug)\u001b[0m\n\u001b[1;32m   1256\u001b[0m     \u001b[38;5;28;01mpass\u001b[39;00m\n\u001b[1;32m   1257\u001b[0m \u001b[38;5;66;03m# wait for all background tasks to finish\u001b[39;00m\n\u001b[0;32m-> 1258\u001b[0m \u001b[38;5;28;01mawait\u001b[39;00m asyncio\u001b[38;5;241m.\u001b[39mgather(\u001b[38;5;241m*\u001b[39mbg)\n",
      "File \u001b[0;32m~/Documents/learning/github/amazon-orders-bot/venv/lib/python3.12/site-packages/langgraph/pregel/__init__.py:1156\u001b[0m, in \u001b[0;36mPregel.astream\u001b[0;34m(self, input, config, stream_mode, output_keys, input_keys, interrupt_before, interrupt_after, debug)\u001b[0m\n\u001b[1;32m   1149\u001b[0m done, inflight \u001b[38;5;241m=\u001b[39m \u001b[38;5;28;01mawait\u001b[39;00m asyncio\u001b[38;5;241m.\u001b[39mwait(\n\u001b[1;32m   1150\u001b[0m     futures,\n\u001b[1;32m   1151\u001b[0m     return_when\u001b[38;5;241m=\u001b[39masyncio\u001b[38;5;241m.\u001b[39mFIRST_EXCEPTION,\n\u001b[1;32m   1152\u001b[0m     timeout\u001b[38;5;241m=\u001b[39m\u001b[38;5;28mself\u001b[39m\u001b[38;5;241m.\u001b[39mstep_timeout,\n\u001b[1;32m   1153\u001b[0m )\n\u001b[1;32m   1155\u001b[0m \u001b[38;5;66;03m# panic on failure or timeout\u001b[39;00m\n\u001b[0;32m-> 1156\u001b[0m \u001b[43m_panic_or_proceed\u001b[49m\u001b[43m(\u001b[49m\u001b[43mdone\u001b[49m\u001b[43m,\u001b[49m\u001b[43m \u001b[49m\u001b[43minflight\u001b[49m\u001b[43m,\u001b[49m\u001b[43m \u001b[49m\u001b[43mstep\u001b[49m\u001b[43m)\u001b[49m\n\u001b[1;32m   1158\u001b[0m \u001b[38;5;66;03m# combine pending writes from all tasks\u001b[39;00m\n\u001b[1;32m   1159\u001b[0m pending_writes \u001b[38;5;241m=\u001b[39m deque[\u001b[38;5;28mtuple\u001b[39m[\u001b[38;5;28mstr\u001b[39m, Any]]()\n",
      "File \u001b[0;32m~/Documents/learning/github/amazon-orders-bot/venv/lib/python3.12/site-packages/langgraph/pregel/__init__.py:1384\u001b[0m, in \u001b[0;36m_panic_or_proceed\u001b[0;34m(done, inflight, step)\u001b[0m\n\u001b[1;32m   1382\u001b[0m             inflight\u001b[38;5;241m.\u001b[39mpop()\u001b[38;5;241m.\u001b[39mcancel()\n\u001b[1;32m   1383\u001b[0m         \u001b[38;5;66;03m# raise the exception\u001b[39;00m\n\u001b[0;32m-> 1384\u001b[0m         \u001b[38;5;28;01mraise\u001b[39;00m exc\n\u001b[1;32m   1386\u001b[0m \u001b[38;5;28;01mif\u001b[39;00m inflight:\n\u001b[1;32m   1387\u001b[0m     \u001b[38;5;66;03m# if we got here means we timed out\u001b[39;00m\n\u001b[1;32m   1388\u001b[0m     \u001b[38;5;28;01mwhile\u001b[39;00m inflight:\n\u001b[1;32m   1389\u001b[0m         \u001b[38;5;66;03m# cancel all pending tasks\u001b[39;00m\n",
      "File \u001b[0;32m~/Documents/learning/github/amazon-orders-bot/venv/lib/python3.12/site-packages/langgraph/pregel/retry.py:114\u001b[0m, in \u001b[0;36marun_with_retry\u001b[0;34m(task, retry_policy, stream)\u001b[0m\n\u001b[1;32m    112\u001b[0m         \u001b[38;5;28;01mpass\u001b[39;00m\n\u001b[1;32m    113\u001b[0m \u001b[38;5;28;01melse\u001b[39;00m:\n\u001b[0;32m--> 114\u001b[0m     \u001b[38;5;28;01mawait\u001b[39;00m task\u001b[38;5;241m.\u001b[39mproc\u001b[38;5;241m.\u001b[39mainvoke(task\u001b[38;5;241m.\u001b[39minput, task\u001b[38;5;241m.\u001b[39mconfig)\n\u001b[1;32m    115\u001b[0m \u001b[38;5;66;03m# if successful, end\u001b[39;00m\n\u001b[1;32m    116\u001b[0m \u001b[38;5;28;01mbreak\u001b[39;00m\n",
      "File \u001b[0;32m~/Documents/learning/github/amazon-orders-bot/venv/lib/python3.12/site-packages/langchain_core/runnables/base.py:2430\u001b[0m, in \u001b[0;36mRunnableSequence.ainvoke\u001b[0;34m(self, input, config, **kwargs)\u001b[0m\n\u001b[1;32m   2428\u001b[0m \u001b[38;5;28;01mtry\u001b[39;00m:\n\u001b[1;32m   2429\u001b[0m     \u001b[38;5;28;01mfor\u001b[39;00m i, step \u001b[38;5;129;01min\u001b[39;00m \u001b[38;5;28menumerate\u001b[39m(\u001b[38;5;28mself\u001b[39m\u001b[38;5;241m.\u001b[39msteps):\n\u001b[0;32m-> 2430\u001b[0m         \u001b[38;5;28minput\u001b[39m \u001b[38;5;241m=\u001b[39m \u001b[38;5;28;01mawait\u001b[39;00m step\u001b[38;5;241m.\u001b[39mainvoke(\n\u001b[1;32m   2431\u001b[0m             \u001b[38;5;28minput\u001b[39m,\n\u001b[1;32m   2432\u001b[0m             \u001b[38;5;66;03m# mark each step as a child run\u001b[39;00m\n\u001b[1;32m   2433\u001b[0m             patch_config(\n\u001b[1;32m   2434\u001b[0m                 config, callbacks\u001b[38;5;241m=\u001b[39mrun_manager\u001b[38;5;241m.\u001b[39mget_child(\u001b[38;5;124mf\u001b[39m\u001b[38;5;124m\"\u001b[39m\u001b[38;5;124mseq:step:\u001b[39m\u001b[38;5;132;01m{\u001b[39;00mi\u001b[38;5;241m+\u001b[39m\u001b[38;5;241m1\u001b[39m\u001b[38;5;132;01m}\u001b[39;00m\u001b[38;5;124m\"\u001b[39m)\n\u001b[1;32m   2435\u001b[0m             ),\n\u001b[1;32m   2436\u001b[0m         )\n\u001b[1;32m   2437\u001b[0m \u001b[38;5;66;03m# finish the root run\u001b[39;00m\n\u001b[1;32m   2438\u001b[0m \u001b[38;5;28;01mexcept\u001b[39;00m \u001b[38;5;167;01mBaseException\u001b[39;00m \u001b[38;5;28;01mas\u001b[39;00m e:\n",
      "File \u001b[0;32m~/Documents/learning/github/amazon-orders-bot/venv/lib/python3.12/site-packages/langchain_core/runnables/base.py:3877\u001b[0m, in \u001b[0;36mRunnableLambda.ainvoke\u001b[0;34m(self, input, config, **kwargs)\u001b[0m\n\u001b[1;32m   3875\u001b[0m \u001b[38;5;250m\u001b[39m\u001b[38;5;124;03m\"\"\"Invoke this runnable asynchronously.\"\"\"\u001b[39;00m\n\u001b[1;32m   3876\u001b[0m the_func \u001b[38;5;241m=\u001b[39m \u001b[38;5;28mself\u001b[39m\u001b[38;5;241m.\u001b[39mafunc \u001b[38;5;28;01mif\u001b[39;00m \u001b[38;5;28mhasattr\u001b[39m(\u001b[38;5;28mself\u001b[39m, \u001b[38;5;124m\"\u001b[39m\u001b[38;5;124mafunc\u001b[39m\u001b[38;5;124m\"\u001b[39m) \u001b[38;5;28;01melse\u001b[39;00m \u001b[38;5;28mself\u001b[39m\u001b[38;5;241m.\u001b[39mfunc\n\u001b[0;32m-> 3877\u001b[0m \u001b[38;5;28;01mreturn\u001b[39;00m \u001b[38;5;28;01mawait\u001b[39;00m \u001b[38;5;28mself\u001b[39m\u001b[38;5;241m.\u001b[39m_acall_with_config(\n\u001b[1;32m   3878\u001b[0m     \u001b[38;5;28mself\u001b[39m\u001b[38;5;241m.\u001b[39m_ainvoke,\n\u001b[1;32m   3879\u001b[0m     \u001b[38;5;28minput\u001b[39m,\n\u001b[1;32m   3880\u001b[0m     \u001b[38;5;28mself\u001b[39m\u001b[38;5;241m.\u001b[39m_config(config, the_func),\n\u001b[1;32m   3881\u001b[0m     \u001b[38;5;241m*\u001b[39m\u001b[38;5;241m*\u001b[39mkwargs,\n\u001b[1;32m   3882\u001b[0m )\n",
      "File \u001b[0;32m~/Documents/learning/github/amazon-orders-bot/venv/lib/python3.12/site-packages/langchain_core/runnables/base.py:1553\u001b[0m, in \u001b[0;36mRunnable._acall_with_config\u001b[0;34m(self, func, input, config, run_type, **kwargs)\u001b[0m\n\u001b[1;32m   1549\u001b[0m coro \u001b[38;5;241m=\u001b[39m acall_func_with_variable_args(\n\u001b[1;32m   1550\u001b[0m     func, \u001b[38;5;28minput\u001b[39m, config, run_manager, \u001b[38;5;241m*\u001b[39m\u001b[38;5;241m*\u001b[39mkwargs\n\u001b[1;32m   1551\u001b[0m )\n\u001b[1;32m   1552\u001b[0m \u001b[38;5;28;01mif\u001b[39;00m accepts_context(asyncio\u001b[38;5;241m.\u001b[39mcreate_task):\n\u001b[0;32m-> 1553\u001b[0m     output: Output \u001b[38;5;241m=\u001b[39m \u001b[38;5;28;01mawait\u001b[39;00m asyncio\u001b[38;5;241m.\u001b[39mcreate_task(coro, context\u001b[38;5;241m=\u001b[39mcontext)  \u001b[38;5;66;03m# type: ignore\u001b[39;00m\n\u001b[1;32m   1554\u001b[0m \u001b[38;5;28;01melse\u001b[39;00m:\n\u001b[1;32m   1555\u001b[0m     output \u001b[38;5;241m=\u001b[39m \u001b[38;5;28;01mawait\u001b[39;00m coro\n",
      "File \u001b[0;32m~/Documents/learning/github/amazon-orders-bot/venv/lib/python3.12/site-packages/langchain_core/runnables/base.py:3824\u001b[0m, in \u001b[0;36mRunnableLambda._ainvoke\u001b[0;34m(self, input, run_manager, config, **kwargs)\u001b[0m\n\u001b[1;32m   3822\u001b[0m                 output \u001b[38;5;241m=\u001b[39m chunk\n\u001b[1;32m   3823\u001b[0m \u001b[38;5;28;01melse\u001b[39;00m:\n\u001b[0;32m-> 3824\u001b[0m     output \u001b[38;5;241m=\u001b[39m \u001b[38;5;28;01mawait\u001b[39;00m acall_func_with_variable_args(\n\u001b[1;32m   3825\u001b[0m         cast(Callable, afunc), \u001b[38;5;28minput\u001b[39m, config, run_manager, \u001b[38;5;241m*\u001b[39m\u001b[38;5;241m*\u001b[39mkwargs\n\u001b[1;32m   3826\u001b[0m     )\n\u001b[1;32m   3827\u001b[0m \u001b[38;5;66;03m# If the output is a runnable, invoke it\u001b[39;00m\n\u001b[1;32m   3828\u001b[0m \u001b[38;5;28;01mif\u001b[39;00m \u001b[38;5;28misinstance\u001b[39m(output, Runnable):\n",
      "Cell \u001b[0;32mIn[10], line 10\u001b[0m, in \u001b[0;36mtype_text_node\u001b[0;34m(state)\u001b[0m\n\u001b[1;32m      5\u001b[0m state_kwargs \u001b[38;5;241m=\u001b[39m {\n\u001b[1;32m      6\u001b[0m     \u001b[38;5;124m'\u001b[39m\u001b[38;5;124mpage\u001b[39m\u001b[38;5;124m'\u001b[39m: state[\u001b[38;5;124m'\u001b[39m\u001b[38;5;124mpage\u001b[39m\u001b[38;5;124m'\u001b[39m],\n\u001b[1;32m      7\u001b[0m     \u001b[38;5;124m'\u001b[39m\u001b[38;5;124mbboxes\u001b[39m\u001b[38;5;124m'\u001b[39m: state[\u001b[38;5;124m'\u001b[39m\u001b[38;5;124mbboxes\u001b[39m\u001b[38;5;124m'\u001b[39m]\n\u001b[1;32m      8\u001b[0m }\n\u001b[1;32m      9\u001b[0m \u001b[38;5;28mprint\u001b[39m(state[\u001b[38;5;124m'\u001b[39m\u001b[38;5;124mbboxes\u001b[39m\u001b[38;5;124m'\u001b[39m])\n\u001b[0;32m---> 10\u001b[0m result \u001b[38;5;241m=\u001b[39m \u001b[38;5;28;01mawait\u001b[39;00m type_text(\u001b[38;5;241m*\u001b[39m\u001b[38;5;241m*\u001b[39mai_kwargs, \u001b[38;5;241m*\u001b[39m\u001b[38;5;241m*\u001b[39mstate_kwargs)\n\u001b[1;32m     11\u001b[0m \u001b[38;5;28;01mreturn\u001b[39;00m result\n",
      "Cell \u001b[0;32mIn[4], line 37\u001b[0m, in \u001b[0;36mtype_text\u001b[0;34m(page, bbox_id, type_content, bboxes)\u001b[0m\n\u001b[1;32m     25\u001b[0m \u001b[38;5;28;01masync\u001b[39;00m \u001b[38;5;28;01mdef\u001b[39;00m \u001b[38;5;21mtype_text\u001b[39m(page: Page, bbox_id:\u001b[38;5;28mint\u001b[39m, type_content:\u001b[38;5;28mstr\u001b[39m, bboxes:Sequence[BBox])\u001b[38;5;241m-\u001b[39m\u001b[38;5;241m>\u001b[39m\u001b[38;5;28mstr\u001b[39m:\n\u001b[1;32m     26\u001b[0m \u001b[38;5;250m    \u001b[39m\u001b[38;5;124;03m\"\"\"Used to type text in a web page.\u001b[39;00m\n\u001b[1;32m     27\u001b[0m \n\u001b[1;32m     28\u001b[0m \u001b[38;5;124;03m    Args:\u001b[39;00m\n\u001b[0;32m   (...)\u001b[0m\n\u001b[1;32m     35\u001b[0m \u001b[38;5;124;03m        str: The message that the text was typed successfully.\u001b[39;00m\n\u001b[1;32m     36\u001b[0m \u001b[38;5;124;03m    \"\"\"\u001b[39;00m\n\u001b[0;32m---> 37\u001b[0m     bbox \u001b[38;5;241m=\u001b[39m \u001b[43mbboxes\u001b[49m\u001b[43m[\u001b[49m\u001b[43mbbox_id\u001b[49m\u001b[43m]\u001b[49m\n\u001b[1;32m     38\u001b[0m     x, y \u001b[38;5;241m=\u001b[39m bbox[\u001b[38;5;124m\"\u001b[39m\u001b[38;5;124mx\u001b[39m\u001b[38;5;124m\"\u001b[39m], bbox[\u001b[38;5;124m\"\u001b[39m\u001b[38;5;124my\u001b[39m\u001b[38;5;124m\"\u001b[39m]\n\u001b[1;32m     39\u001b[0m     \u001b[38;5;28;01mawait\u001b[39;00m page\u001b[38;5;241m.\u001b[39mmouse\u001b[38;5;241m.\u001b[39mclick(x, y)\n",
      "\u001b[0;31mTypeError\u001b[0m: 'NoneType' object is not subscriptable"
     ]
    }
   ],
   "source": [
    "user_input = \"What is the price of iphone 15 on flipkart?\"\n",
    "res = await call_agent(user_input, page)"
   ]
  },
  {
   "cell_type": "code",
   "execution_count": 14,
   "metadata": {},
   "outputs": [],
   "source": [
    "await page.close()\n",
    "await browser.close()"
   ]
  },
  {
   "cell_type": "code",
   "execution_count": null,
   "metadata": {},
   "outputs": [],
   "source": []
  },
  {
   "cell_type": "code",
   "execution_count": null,
   "metadata": {},
   "outputs": [],
   "source": []
  },
  {
   "cell_type": "code",
   "execution_count": null,
   "metadata": {},
   "outputs": [],
   "source": []
  },
  {
   "cell_type": "markdown",
   "metadata": {},
   "source": [
    "# Experiments"
   ]
  },
  {
   "cell_type": "code",
   "execution_count": null,
   "metadata": {},
   "outputs": [],
   "source": [
    "# from langchain_openai import ChatOpenAI\n",
    "# from langchain_core.prompts import ChatPromptTemplate\n",
    "\n",
    "# def add_two_numbers(a:int, b:int)->int:\n",
    "#     \"\"\"Use this to add two numbers\"\"\"\n",
    "#     return a+b\n",
    "\n",
    "# all_functions = [add_two_numbers]\n",
    "\n",
    "# prompt = ChatPromptTemplate.from_messages([\n",
    "#     ('system','You are a helpful assistant. Please help the user with their query. You are not very good with maths. So if you encounter a match problem, remember to call a tool'),\n",
    "#     ('user','{input}')\n",
    "# ])\n",
    "\n",
    "# llm = ChatOpenAI(model='gpt-3.5-turbo')\n",
    "\n",
    "# agent = prompt | llm.bind_functions(all_functions)"
   ]
  },
  {
   "cell_type": "code",
   "execution_count": null,
   "metadata": {},
   "outputs": [],
   "source": [
    "# result = agent.invoke({'input':'What is 2+5? Use a tool to calculate this.'})"
   ]
  },
  {
   "cell_type": "code",
   "execution_count": null,
   "metadata": {},
   "outputs": [],
   "source": [
    "# result"
   ]
  },
  {
   "cell_type": "code",
   "execution_count": null,
   "metadata": {},
   "outputs": [],
   "source": [
    "# result.additional_kwargs"
   ]
  },
  {
   "cell_type": "code",
   "execution_count": null,
   "metadata": {},
   "outputs": [],
   "source": [
    "# if {1:1}:\n",
    "#     print('hello')"
   ]
  },
  {
   "cell_type": "code",
   "execution_count": null,
   "metadata": {},
   "outputs": [],
   "source": [
    "# type(result)"
   ]
  },
  {
   "cell_type": "code",
   "execution_count": null,
   "metadata": {},
   "outputs": [],
   "source": [
    "# from langchain_core.messages import AIMessage\n",
    "# message = AIMessage(content=\"\", additional_kwargs={\n",
    "#         \"tool_calls\": [\n",
    "#             {\n",
    "#                 \"id\": \"call_oRSmfiNKrJBfCCBP7y0uglry\",\n",
    "#                 \"function\": {\n",
    "#                     \"arguments\": {\"objective\":\"Create a SQL agent who is an expert in writing SQL queries. The agent should be able to capture the context of the problem, ask clarifying questions, and generate SQL queries.\",\"variables\":[],\"constraints\":[\"Output should not be plain text\"],\"requirements\":[\"Output must be a SQL query\"]},\n",
    "#                     \"name\": \"PromptInstructions\"\n",
    "#                 },\n",
    "#                 \"type\": \"function\"\n",
    "#             }\n",
    "#         ]\n",
    "#     }, response_metadata={\n",
    "#         \"token_usage\": {\n",
    "#             \"completion_tokens\": 70,\n",
    "#             \"prompt_tokens\": 436,\n",
    "#             \"total_tokens\": 506\n",
    "#         },\n",
    "#         \"model_name\": \"gpt-3.5-turbo\",\n",
    "#         \"system_fingerprint\": None,\n",
    "#         \"finish_reason\": \"tool_calls\",\n",
    "#         \"logprobs\": None\n",
    "#     }, id=\"run-4c15f1fe-6142-4fbc-810f-079e61314ebd-0\", tool_calls=[\n",
    "#         {\n",
    "#             \"name\": \"PromptInstructions\",\n",
    "#             \"args\": {\n",
    "#                 \"objective\": \"Create a SQL agent who is an expert in writing SQL queries. The agent should be able to capture the context of the problem, ask clarifying questions, and generate SQL queries.\",\n",
    "#                 \"variables\": [],\n",
    "#                 \"constraints\": [\n",
    "#                     \"Output should not be plain text\"\n",
    "#                 ],\n",
    "#                 \"requirements\": [\n",
    "#                     \"Output must be a SQL query\"\n",
    "#                 ]\n",
    "#             },\n",
    "#             \"id\": \"call_oRSmfiNKrJBfCCBP7y0uglry\"\n",
    "#         }\n",
    "#     ])"
   ]
  },
  {
   "cell_type": "code",
   "execution_count": null,
   "metadata": {},
   "outputs": [
    {
     "data": {
      "text/plain": [
       "[{'name': 'PromptInstructions',\n",
       "  'args': {'objective': 'Create a SQL agent who is an expert in writing SQL queries. The agent should be able to capture the context of the problem, ask clarifying questions, and generate SQL queries.',\n",
       "   'variables': [],\n",
       "   'constraints': ['Output should not be plain text'],\n",
       "   'requirements': ['Output must be a SQL query']},\n",
       "  'id': 'call_oRSmfiNKrJBfCCBP7y0uglry'}]"
      ]
     },
     "execution_count": 17,
     "metadata": {},
     "output_type": "execute_result"
    }
   ],
   "source": [
    "# message.tool_calls"
   ]
  },
  {
   "cell_type": "code",
   "execution_count": null,
   "metadata": {},
   "outputs": [
    {
     "data": {
      "text/plain": [
       "[{'id': 'call_oRSmfiNKrJBfCCBP7y0uglry',\n",
       "  'function': {'arguments': {'objective': 'Create a SQL agent who is an expert in writing SQL queries. The agent should be able to capture the context of the problem, ask clarifying questions, and generate SQL queries.',\n",
       "    'variables': [],\n",
       "    'constraints': ['Output should not be plain text'],\n",
       "    'requirements': ['Output must be a SQL query']},\n",
       "   'name': 'PromptInstructions'},\n",
       "  'type': 'function'}]"
      ]
     },
     "execution_count": 19,
     "metadata": {},
     "output_type": "execute_result"
    }
   ],
   "source": [
    "# message.additional_kwargs['tool_calls']"
   ]
  },
  {
   "cell_type": "code",
   "execution_count": null,
   "metadata": {},
   "outputs": [],
   "source": []
  }
 ],
 "metadata": {
  "kernelspec": {
   "display_name": "Python 3",
   "language": "python",
   "name": "python3"
  },
  "language_info": {
   "codemirror_mode": {
    "name": "ipython",
    "version": 3
   },
   "file_extension": ".py",
   "mimetype": "text/x-python",
   "name": "python",
   "nbconvert_exporter": "python",
   "pygments_lexer": "ipython3",
   "version": "3.12.3"
  }
 },
 "nbformat": 4,
 "nbformat_minor": 2
}
